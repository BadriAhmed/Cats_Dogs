{
  "nbformat": 4,
  "nbformat_minor": 0,
  "metadata": {
    "colab": {
      "name": "Your first CNN",
      "provenance": [],
      "collapsed_sections": []
    },
    "kernelspec": {
      "name": "python3",
      "display_name": "Python 3"
    },
    "accelerator": "GPU"
  },
  "cells": [
    {
      "cell_type": "markdown",
      "metadata": {
        "id": "K1rfo2whvSkb",
        "colab_type": "text"
      },
      "source": [
        "# What's the problem ?\n",
        "\n",
        "## In this notebook, we will be building a CNN to classify pictures in two classes : Cats and Dogs, read until the end, to see what happened."
      ]
    },
    {
      "cell_type": "markdown",
      "metadata": {
        "id": "7R7n25FdvsXt",
        "colab_type": "text"
      },
      "source": [
        "### Lets start first by importing the data. It's a sample of 1000 picture. You can find the original dataset in [kaggle here](https://www.kaggle.com/c/dogs-vs-cats/)"
      ]
    },
    {
      "cell_type": "code",
      "metadata": {
        "id": "li5IULFD4lEc",
        "colab_type": "code",
        "outputId": "d9bf7d26-bee9-4319-d619-a5b3d86a54db",
        "colab": {
          "base_uri": "https://localhost:8080/",
          "height": 126
        }
      },
      "source": [
        "!git clone https://github.com/BadriAhmed/Cats_Dogs.git"
      ],
      "execution_count": 1,
      "outputs": [
        {
          "output_type": "stream",
          "text": [
            "Cloning into 'Cats_Dogs'...\n",
            "remote: Enumerating objects: 4, done.\u001b[K\n",
            "remote: Counting objects: 100% (4/4), done.\u001b[K\n",
            "remote: Compressing objects: 100% (3/3), done.\u001b[K\n",
            "remote: Total 4 (delta 0), reused 4 (delta 0), pack-reused 0\u001b[K\n",
            "Unpacking objects: 100% (4/4), done.\n"
          ],
          "name": "stdout"
        }
      ]
    },
    {
      "cell_type": "markdown",
      "metadata": {
        "id": "5dFQR2edwhpt",
        "colab_type": "text"
      },
      "source": [
        "### lets move to the directory where the data is stored, and than extract it (since it is a zip file )"
      ]
    },
    {
      "cell_type": "code",
      "metadata": {
        "id": "KMoAsbMnBotK",
        "colab_type": "code",
        "outputId": "a485c784-b7ae-4efb-b4a8-11e99c1cc24e",
        "colab": {
          "base_uri": "https://localhost:8080/",
          "height": 35
        }
      },
      "source": [
        "%cd /content/Cats_Dogs"
      ],
      "execution_count": 2,
      "outputs": [
        {
          "output_type": "stream",
          "text": [
            "/content/Cats_Dogs\n"
          ],
          "name": "stdout"
        }
      ]
    },
    {
      "cell_type": "code",
      "metadata": {
        "id": "j-wDt_iyB5kz",
        "colab_type": "code",
        "colab": {
          "base_uri": "https://localhost:8080/",
          "height": 1000
        },
        "outputId": "ccd73d76-82ea-40cb-b164-b9c2458e694f"
      },
      "source": [
        "!unzip data.zip"
      ],
      "execution_count": 3,
      "outputs": [
        {
          "output_type": "stream",
          "text": [
            "Archive:  data.zip\n",
            "   creating: Sample/\n",
            "  inflating: Sample/cat.204.jpg      \n",
            "  inflating: Sample/cat.413.jpg      \n",
            "  inflating: Sample/cat.151.jpg      \n",
            "  inflating: Sample/cat.481.jpg      \n",
            "  inflating: Sample/cat.66.jpg       \n",
            "  inflating: Sample/cat.284.jpg      \n",
            "  inflating: Sample/dog.37.jpg       \n",
            "  inflating: Sample/dog.77.jpg       \n",
            "  inflating: Sample/dog.80.jpg       \n",
            "  inflating: Sample/dog.20.jpg       \n",
            "  inflating: Sample/cat.424.jpg      \n",
            "  inflating: Sample/dog.366.jpg      \n",
            "  inflating: Sample/cat.202.jpg      \n",
            "  inflating: Sample/dog.432.jpg      \n",
            "  inflating: Sample/cat.182.jpg      \n",
            "  inflating: Sample/dog.464.jpg      \n",
            "  inflating: Sample/cat.317.jpg      \n",
            "  inflating: Sample/cat.266.jpg      \n",
            "  inflating: Sample/cat.172.jpg      \n",
            "  inflating: Sample/dog.162.jpg      \n",
            "  inflating: Sample/cat.327.jpg      \n",
            "  inflating: Sample/dog.78.jpg       \n",
            "  inflating: Sample/dog.114.jpg      \n",
            "  inflating: Sample/dog.258.jpg      \n",
            "  inflating: Sample/dog.417.jpg      \n",
            "  inflating: Sample/cat.49.jpg       \n",
            "  inflating: Sample/cat.39.jpg       \n",
            "  inflating: Sample/cat.421.jpg      \n",
            "  inflating: Sample/dog.423.jpg      \n",
            "  inflating: Sample/cat.467.jpg      \n",
            "  inflating: Sample/dog.400.jpg      \n",
            "  inflating: Sample/cat.224.jpg      \n",
            "  inflating: Sample/dog.115.jpg      \n",
            "  inflating: Sample/cat.497.jpg      \n",
            "  inflating: Sample/cat.94.jpg       \n",
            "  inflating: Sample/dog.109.jpg      \n",
            "  inflating: Sample/cat.177.jpg      \n",
            "  inflating: Sample/dog.188.jpg      \n",
            "  inflating: Sample/cat.167.jpg      \n",
            "  inflating: Sample/dog.85.jpg       \n",
            "  inflating: Sample/cat.14.jpg       \n",
            "  inflating: Sample/cat.244.jpg      \n",
            "  inflating: Sample/dog.12.jpg       \n",
            "  inflating: Sample/cat.378.jpg      \n",
            "  inflating: Sample/cat.91.jpg       \n",
            "  inflating: Sample/cat.258.jpg      \n",
            "  inflating: Sample/dog.214.jpg      \n",
            "  inflating: Sample/cat.87.jpg       \n",
            "  inflating: Sample/cat.359.jpg      \n",
            "  inflating: Sample/dog.281.jpg      \n",
            "  inflating: Sample/dog.365.jpg      \n",
            "  inflating: Sample/dog.105.jpg      \n",
            "  inflating: Sample/cat.474.jpg      \n",
            "  inflating: Sample/dog.52.jpg       \n",
            "  inflating: Sample/dog.208.jpg      \n",
            "  inflating: Sample/dog.313.jpg      \n",
            "  inflating: Sample/cat.480.jpg      \n",
            "  inflating: Sample/cat.235.jpg      \n",
            "  inflating: Sample/cat.149.jpg      \n",
            "  inflating: Sample/cat.51.jpg       \n",
            "  inflating: Sample/cat.372.jpg      \n",
            "  inflating: Sample/dog.65.jpg       \n",
            "  inflating: Sample/cat.342.jpg      \n",
            "  inflating: Sample/dog.3.jpg        \n",
            "  inflating: Sample/cat.24.jpg       \n",
            "  inflating: Sample/dog.67.jpg       \n",
            "  inflating: Sample/dog.130.jpg      \n",
            "  inflating: Sample/cat.4.jpg        \n",
            "  inflating: Sample/cat.2.jpg        \n",
            "  inflating: Sample/cat.188.jpg      \n",
            "  inflating: Sample/dog.481.jpg      \n",
            "  inflating: Sample/cat.173.jpg      \n",
            "  inflating: Sample/cat.134.jpg      \n",
            "  inflating: Sample/cat.440.jpg      \n",
            "  inflating: Sample/dog.223.jpg      \n",
            "  inflating: Sample/cat.196.jpg      \n",
            "  inflating: Sample/dog.392.jpg      \n",
            "  inflating: Sample/cat.117.jpg      \n",
            "  inflating: Sample/cat.40.jpg       \n",
            "  inflating: Sample/cat.399.jpg      \n",
            "  inflating: Sample/dog.314.jpg      \n",
            "  inflating: Sample/cat.52.jpg       \n",
            "  inflating: Sample/dog.324.jpg      \n",
            "  inflating: Sample/dog.263.jpg      \n",
            "  inflating: Sample/dog.221.jpg      \n",
            "  inflating: Sample/cat.309.jpg      \n",
            "  inflating: Sample/cat.209.jpg      \n",
            "  inflating: Sample/dog.11.jpg       \n",
            "  inflating: Sample/cat.1.jpg        \n",
            "  inflating: Sample/dog.179.jpg      \n",
            "  inflating: Sample/dog.322.jpg      \n",
            "  inflating: Sample/dog.348.jpg      \n",
            "  inflating: Sample/cat.499.jpg      \n",
            "  inflating: Sample/dog.159.jpg      \n",
            "  inflating: Sample/cat.278.jpg      \n",
            "  inflating: Sample/cat.451.jpg      \n",
            "  inflating: Sample/cat.273.jpg      \n",
            "  inflating: Sample/cat.119.jpg      \n",
            "  inflating: Sample/cat.456.jpg      \n",
            "  inflating: Sample/dog.361.jpg      \n",
            "  inflating: Sample/cat.427.jpg      \n",
            "  inflating: Sample/cat.374.jpg      \n",
            "  inflating: Sample/dog.191.jpg      \n",
            "  inflating: Sample/dog.154.jpg      \n",
            "  inflating: Sample/dog.86.jpg       \n",
            "  inflating: Sample/dog.401.jpg      \n",
            "  inflating: Sample/cat.473.jpg      \n",
            "  inflating: Sample/cat.445.jpg      \n",
            "  inflating: Sample/cat.86.jpg       \n",
            "  inflating: Sample/cat.306.jpg      \n",
            "  inflating: Sample/dog.343.jpg      \n",
            "  inflating: Sample/dog.331.jpg      \n",
            "  inflating: Sample/cat.442.jpg      \n",
            "  inflating: Sample/cat.239.jpg      \n",
            "  inflating: Sample/cat.6.jpg        \n",
            "  inflating: Sample/dog.336.jpg      \n",
            "  inflating: Sample/dog.419.jpg      \n",
            "  inflating: Sample/dog.308.jpg      \n",
            "  inflating: Sample/dog.102.jpg      \n",
            "  inflating: Sample/dog.15.jpg       \n",
            "  inflating: Sample/cat.484.jpg      \n",
            "  inflating: Sample/cat.402.jpg      \n",
            "  inflating: Sample/dog.248.jpg      \n",
            "  inflating: Sample/dog.356.jpg      \n",
            "  inflating: Sample/cat.70.jpg       \n",
            "  inflating: Sample/dog.132.jpg      \n",
            "  inflating: Sample/dog.259.jpg      \n",
            "  inflating: Sample/cat.113.jpg      \n",
            "  inflating: Sample/cat.329.jpg      \n",
            "  inflating: Sample/cat.76.jpg       \n",
            "  inflating: Sample/cat.38.jpg       \n",
            "  inflating: Sample/dog.252.jpg      \n",
            "  inflating: Sample/dog.98.jpg       \n",
            "  inflating: Sample/dog.101.jpg      \n",
            "  inflating: Sample/cat.393.jpg      \n",
            "  inflating: Sample/dog.478.jpg      \n",
            "  inflating: Sample/cat.425.jpg      \n",
            "  inflating: Sample/dog.298.jpg      \n",
            "  inflating: Sample/cat.104.jpg      \n",
            "  inflating: Sample/cat.415.jpg      \n",
            "  inflating: Sample/dog.380.jpg      \n",
            "  inflating: Sample/dog.38.jpg       \n",
            "  inflating: Sample/cat.338.jpg      \n",
            "  inflating: Sample/dog.23.jpg       \n",
            "  inflating: Sample/cat.10.jpg       \n",
            "  inflating: Sample/cat.232.jpg      \n",
            "  inflating: Sample/cat.428.jpg      \n",
            "  inflating: Sample/cat.332.jpg      \n",
            "  inflating: Sample/cat.11.jpg       \n",
            "  inflating: Sample/dog.34.jpg       \n",
            "  inflating: Sample/dog.368.jpg      \n",
            "  inflating: Sample/cat.335.jpg      \n",
            "  inflating: Sample/cat.207.jpg      \n",
            "  inflating: Sample/dog.489.jpg      \n",
            "  inflating: Sample/cat.50.jpg       \n",
            "  inflating: Sample/cat.105.jpg      \n",
            "  inflating: Sample/cat.350.jpg      \n",
            "  inflating: Sample/cat.115.jpg      \n",
            "  inflating: Sample/cat.135.jpg      \n",
            "  inflating: Sample/cat.84.jpg       \n",
            "  inflating: Sample/cat.352.jpg      \n",
            "  inflating: Sample/dog.151.jpg      \n",
            "  inflating: Sample/cat.376.jpg      \n",
            "  inflating: Sample/dog.306.jpg      \n",
            "  inflating: Sample/cat.16.jpg       \n",
            "  inflating: Sample/dog.92.jpg       \n",
            "  inflating: Sample/cat.400.jpg      \n",
            "  inflating: Sample/cat.420.jpg      \n",
            "  inflating: Sample/dog.216.jpg      \n",
            "  inflating: Sample/cat.20.jpg       \n",
            "  inflating: Sample/dog.226.jpg      \n",
            "  inflating: Sample/dog.194.jpg      \n",
            "  inflating: Sample/dog.288.jpg      \n",
            "  inflating: Sample/cat.58.jpg       \n",
            "  inflating: Sample/cat.216.jpg      \n",
            "  inflating: Sample/dog.42.jpg       \n",
            "  inflating: Sample/cat.63.jpg       \n",
            "  inflating: Sample/dog.284.jpg      \n",
            "  inflating: Sample/cat.295.jpg      \n",
            "  inflating: Sample/dog.89.jpg       \n",
            "  inflating: Sample/cat.3.jpg        \n",
            "  inflating: Sample/cat.30.jpg       \n",
            "  inflating: Sample/dog.376.jpg      \n",
            "  inflating: Sample/cat.396.jpg      \n",
            "  inflating: Sample/cat.253.jpg      \n",
            "  inflating: Sample/dog.476.jpg      \n",
            "  inflating: Sample/cat.355.jpg      \n",
            "  inflating: Sample/dog.91.jpg       \n",
            "  inflating: Sample/cat.150.jpg      \n",
            "  inflating: Sample/cat.288.jpg      \n",
            "  inflating: Sample/cat.200.jpg      \n",
            "  inflating: Sample/cat.102.jpg      \n",
            "  inflating: Sample/dog.119.jpg      \n",
            "  inflating: Sample/dog.425.jpg      \n",
            "  inflating: Sample/cat.475.jpg      \n",
            "  inflating: Sample/dog.215.jpg      \n",
            "  inflating: Sample/dog.117.jpg      \n",
            "  inflating: Sample/dog.74.jpg       \n",
            "  inflating: Sample/cat.22.jpg       \n",
            "  inflating: Sample/cat.110.jpg      \n",
            "  inflating: Sample/cat.404.jpg      \n",
            "  inflating: Sample/dog.264.jpg      \n",
            "  inflating: Sample/dog.39.jpg       \n",
            "  inflating: Sample/dog.469.jpg      \n",
            "  inflating: Sample/cat.32.jpg       \n",
            "  inflating: Sample/dog.185.jpg      \n",
            "  inflating: Sample/cat.99.jpg       \n",
            "  inflating: Sample/cat.311.jpg      \n",
            "  inflating: Sample/cat.286.jpg      \n",
            "  inflating: Sample/dog.282.jpg      \n",
            "  inflating: Sample/dog.286.jpg      \n",
            "  inflating: Sample/cat.164.jpg      \n",
            "  inflating: Sample/dog.60.jpg       \n",
            "  inflating: Sample/dog.138.jpg      \n",
            "  inflating: Sample/cat.479.jpg      \n",
            "  inflating: Sample/cat.69.jpg       \n",
            "  inflating: Sample/cat.343.jpg      \n",
            "  inflating: Sample/dog.455.jpg      \n",
            "  inflating: Sample/dog.79.jpg       \n",
            "  inflating: Sample/dog.246.jpg      \n",
            "  inflating: Sample/cat.465.jpg      \n",
            "  inflating: Sample/dog.45.jpg       \n",
            "  inflating: Sample/dog.294.jpg      \n",
            "  inflating: Sample/cat.392.jpg      \n",
            "  inflating: Sample/dog.155.jpg      \n",
            "  inflating: Sample/dog.135.jpg      \n",
            "  inflating: Sample/dog.32.jpg       \n",
            "  inflating: Sample/dog.429.jpg      \n",
            "  inflating: Sample/dog.418.jpg      \n",
            "  inflating: Sample/cat.146.jpg      \n",
            "  inflating: Sample/dog.234.jpg      \n",
            "  inflating: Sample/cat.369.jpg      \n",
            "  inflating: Sample/dog.1.jpg        \n",
            "  inflating: Sample/cat.116.jpg      \n",
            "  inflating: Sample/dog.374.jpg      \n",
            "  inflating: Sample/dog.219.jpg      \n",
            "  inflating: Sample/cat.183.jpg      \n",
            "  inflating: Sample/dog.169.jpg      \n",
            "  inflating: Sample/cat.220.jpg      \n",
            "  inflating: Sample/cat.45.jpg       \n",
            "  inflating: Sample/dog.487.jpg      \n",
            "  inflating: Sample/dog.358.jpg      \n",
            "  inflating: Sample/cat.165.jpg      \n",
            "  inflating: Sample/dog.49.jpg       \n",
            "  inflating: Sample/cat.371.jpg      \n",
            "  inflating: Sample/cat.459.jpg      \n",
            "  inflating: Sample/dog.212.jpg      \n",
            "  inflating: Sample/dog.235.jpg      \n",
            "  inflating: Sample/cat.230.jpg      \n",
            "  inflating: Sample/cat.307.jpg      \n",
            "  inflating: Sample/cat.184.jpg      \n",
            "  inflating: Sample/cat.28.jpg       \n",
            "  inflating: Sample/dog.315.jpg      \n",
            "  inflating: Sample/dog.53.jpg       \n",
            "  inflating: Sample/cat.190.jpg      \n",
            "  inflating: Sample/cat.186.jpg      \n",
            "  inflating: Sample/cat.464.jpg      \n",
            "  inflating: Sample/cat.92.jpg       \n",
            "  inflating: Sample/cat.320.jpg      \n",
            "  inflating: Sample/cat.78.jpg       \n",
            "  inflating: Sample/dog.462.jpg      \n",
            "  inflating: Sample/cat.205.jpg      \n",
            "  inflating: Sample/cat.179.jpg      \n",
            "  inflating: Sample/cat.305.jpg      \n",
            "  inflating: Sample/cat.174.jpg      \n",
            "  inflating: Sample/cat.285.jpg      \n",
            "  inflating: Sample/dog.448.jpg      \n",
            "  inflating: Sample/dog.353.jpg      \n",
            "  inflating: Sample/dog.393.jpg      \n",
            "  inflating: Sample/dog.402.jpg      \n",
            "  inflating: Sample/cat.162.jpg      \n",
            "  inflating: Sample/dog.389.jpg      \n",
            "  inflating: Sample/dog.41.jpg       \n",
            "  inflating: Sample/dog.445.jpg      \n",
            "  inflating: Sample/dog.205.jpg      \n",
            "  inflating: Sample/cat.33.jpg       \n",
            "  inflating: Sample/dog.195.jpg      \n",
            "  inflating: Sample/dog.178.jpg      \n",
            "  inflating: Sample/cat.349.jpg      \n",
            "  inflating: Sample/cat.294.jpg      \n",
            "  inflating: Sample/dog.383.jpg      \n",
            "  inflating: Sample/dog.153.jpg      \n",
            "  inflating: Sample/cat.452.jpg      \n",
            "  inflating: Sample/cat.461.jpg      \n",
            "  inflating: Sample/cat.434.jpg      \n",
            "  inflating: Sample/cat.101.jpg      \n",
            "  inflating: Sample/dog.143.jpg      \n",
            "  inflating: Sample/dog.364.jpg      \n",
            "  inflating: Sample/dog.300.jpg      \n",
            "  inflating: Sample/dog.379.jpg      \n",
            "  inflating: Sample/cat.429.jpg      \n",
            "  inflating: Sample/dog.480.jpg      \n",
            "  inflating: Sample/cat.485.jpg      \n",
            "  inflating: Sample/dog.370.jpg      \n",
            "  inflating: Sample/cat.96.jpg       \n",
            "  inflating: Sample/cat.340.jpg      \n",
            "  inflating: Sample/dog.428.jpg      \n",
            "  inflating: Sample/cat.187.jpg      \n",
            "  inflating: Sample/dog.54.jpg       \n",
            "  inflating: Sample/dog.280.jpg      \n",
            "  inflating: Sample/dog.272.jpg      \n",
            "  inflating: Sample/cat.368.jpg      \n",
            "  inflating: Sample/dog.70.jpg       \n",
            "  inflating: Sample/cat.79.jpg       \n",
            "  inflating: Sample/dog.40.jpg       \n",
            "  inflating: Sample/cat.483.jpg      \n",
            "  inflating: Sample/cat.304.jpg      \n",
            "  inflating: Sample/cat.118.jpg      \n",
            "  inflating: Sample/dog.63.jpg       \n",
            "  inflating: Sample/cat.312.jpg      \n",
            "  inflating: Sample/dog.111.jpg      \n",
            "  inflating: Sample/dog.150.jpg      \n",
            "  inflating: Sample/dog.84.jpg       \n",
            "  inflating: Sample/dog.229.jpg      \n",
            "  inflating: Sample/dog.372.jpg      \n",
            "  inflating: Sample/cat.375.jpg      \n",
            "  inflating: Sample/cat.259.jpg      \n",
            "  inflating: Sample/dog.176.jpg      \n",
            "  inflating: Sample/cat.155.jpg      \n",
            "  inflating: Sample/dog.124.jpg      \n",
            "  inflating: Sample/dog.381.jpg      \n",
            "  inflating: Sample/dog.317.jpg      \n",
            "  inflating: Sample/cat.137.jpg      \n",
            "  inflating: Sample/cat.334.jpg      \n",
            "  inflating: Sample/dog.156.jpg      \n",
            "  inflating: Sample/dog.181.jpg      \n",
            "  inflating: Sample/cat.412.jpg      \n",
            "  inflating: Sample/cat.53.jpg       \n",
            "  inflating: Sample/dog.468.jpg      \n",
            "  inflating: Sample/cat.36.jpg       \n",
            "  inflating: Sample/cat.199.jpg      \n",
            "  inflating: Sample/cat.168.jpg      \n",
            "  inflating: Sample/cat.18.jpg       \n",
            "  inflating: Sample/dog.473.jpg      \n",
            "  inflating: Sample/dog.405.jpg      \n",
            "  inflating: Sample/dog.190.jpg      \n",
            "  inflating: Sample/cat.377.jpg      \n",
            "  inflating: Sample/cat.405.jpg      \n",
            "  inflating: Sample/dog.260.jpg      \n",
            "  inflating: Sample/dog.217.jpg      \n",
            "  inflating: Sample/dog.421.jpg      \n",
            "  inflating: Sample/dog.387.jpg      \n",
            "  inflating: Sample/cat.418.jpg      \n",
            "  inflating: Sample/cat.61.jpg       \n",
            "  inflating: Sample/dog.236.jpg      \n",
            "  inflating: Sample/dog.470.jpg      \n",
            "  inflating: Sample/cat.25.jpg       \n",
            "  inflating: Sample/cat.439.jpg      \n",
            "  inflating: Sample/dog.5.jpg        \n",
            "  inflating: Sample/cat.364.jpg      \n",
            "  inflating: Sample/dog.362.jpg      \n",
            "  inflating: Sample/dog.430.jpg      \n",
            "  inflating: Sample/dog.449.jpg      \n",
            "  inflating: Sample/cat.54.jpg       \n",
            "  inflating: Sample/dog.173.jpg      \n",
            "  inflating: Sample/cat.490.jpg      \n",
            "  inflating: Sample/cat.438.jpg      \n",
            "  inflating: Sample/cat.203.jpg      \n",
            "  inflating: Sample/dog.438.jpg      \n",
            "  inflating: Sample/dog.239.jpg      \n",
            "  inflating: Sample/dog.126.jpg      \n",
            "  inflating: Sample/dog.148.jpg      \n",
            "  inflating: Sample/dog.24.jpg       \n",
            "  inflating: Sample/cat.458.jpg      \n",
            "  inflating: Sample/dog.321.jpg      \n",
            "  inflating: Sample/dog.58.jpg       \n",
            "  inflating: Sample/cat.370.jpg      \n",
            "  inflating: Sample/cat.301.jpg      \n",
            "  inflating: Sample/dog.160.jpg      \n",
            "  inflating: Sample/cat.154.jpg      \n",
            "  inflating: Sample/cat.26.jpg       \n",
            "  inflating: Sample/dog.203.jpg      \n",
            "  inflating: Sample/dog.136.jpg      \n",
            "  inflating: Sample/cat.122.jpg      \n",
            "  inflating: Sample/cat.212.jpg      \n",
            "  inflating: Sample/dog.295.jpg      \n",
            "  inflating: Sample/cat.357.jpg      \n",
            "  inflating: Sample/cat.206.jpg      \n",
            "  inflating: Sample/dog.305.jpg      \n",
            "  inflating: Sample/dog.56.jpg       \n",
            "  inflating: Sample/dog.363.jpg      \n",
            "  inflating: Sample/dog.251.jpg      \n",
            "  inflating: Sample/cat.394.jpg      \n",
            "  inflating: Sample/cat.142.jpg      \n",
            "  inflating: Sample/cat.476.jpg      \n",
            "  inflating: Sample/dog.231.jpg      \n",
            "  inflating: Sample/cat.398.jpg      \n",
            "  inflating: Sample/cat.283.jpg      \n",
            "  inflating: Sample/cat.114.jpg      \n",
            "  inflating: Sample/cat.13.jpg       \n",
            "  inflating: Sample/dog.492.jpg      \n",
            "  inflating: Sample/dog.420.jpg      \n",
            "  inflating: Sample/dog.307.jpg      \n",
            "  inflating: Sample/dog.283.jpg      \n",
            "  inflating: Sample/dog.493.jpg      \n",
            "  inflating: Sample/dog.485.jpg      \n",
            "  inflating: Sample/dog.25.jpg       \n",
            "  inflating: Sample/dog.9.jpg        \n",
            "  inflating: Sample/dog.123.jpg      \n",
            "  inflating: Sample/cat.68.jpg       \n",
            "  inflating: Sample/dog.257.jpg      \n",
            "  inflating: Sample/dog.373.jpg      \n",
            "  inflating: Sample/cat.226.jpg      \n",
            "  inflating: Sample/cat.56.jpg       \n",
            "  inflating: Sample/dog.167.jpg      \n",
            "  inflating: Sample/cat.416.jpg      \n",
            "  inflating: Sample/dog.491.jpg      \n",
            "  inflating: Sample/dog.416.jpg      \n",
            "  inflating: Sample/dog.144.jpg      \n",
            "  inflating: Sample/cat.339.jpg      \n",
            "  inflating: Sample/cat.31.jpg       \n",
            "  inflating: Sample/dog.490.jpg      \n",
            "  inflating: Sample/cat.303.jpg      \n",
            "  inflating: Sample/cat.432.jpg      \n",
            "  inflating: Sample/cat.128.jpg      \n",
            "  inflating: Sample/cat.274.jpg      \n",
            "  inflating: Sample/dog.369.jpg      \n",
            "  inflating: Sample/cat.140.jpg      \n",
            "  inflating: Sample/dog.253.jpg      \n",
            "  inflating: Sample/dog.398.jpg      \n",
            "  inflating: Sample/cat.472.jpg      \n",
            "  inflating: Sample/cat.103.jpg      \n",
            "  inflating: Sample/dog.375.jpg      \n",
            "  inflating: Sample/cat.448.jpg      \n",
            "  inflating: Sample/dog.350.jpg      \n",
            "  inflating: Sample/cat.48.jpg       \n",
            "  inflating: Sample/dog.446.jpg      \n",
            "  inflating: Sample/dog.287.jpg      \n",
            "  inflating: Sample/dog.104.jpg      \n",
            "  inflating: Sample/dog.133.jpg      \n",
            "  inflating: Sample/dog.238.jpg      \n",
            "  inflating: Sample/dog.266.jpg      \n",
            "  inflating: Sample/cat.234.jpg      \n",
            "  inflating: Sample/dog.183.jpg      \n",
            "  inflating: Sample/cat.88.jpg       \n",
            "  inflating: Sample/dog.198.jpg      \n",
            "  inflating: Sample/dog.290.jpg      \n",
            "  inflating: Sample/cat.89.jpg       \n",
            "  inflating: Sample/dog.394.jpg      \n",
            "  inflating: Sample/cat.43.jpg       \n",
            "  inflating: Sample/dog.30.jpg       \n",
            "  inflating: Sample/dog.211.jpg      \n",
            "  inflating: Sample/cat.42.jpg       \n",
            "  inflating: Sample/dog.227.jpg      \n",
            "  inflating: Sample/dog.129.jpg      \n",
            "  inflating: Sample/cat.326.jpg      \n",
            "  inflating: Sample/cat.321.jpg      \n",
            "  inflating: Sample/cat.250.jpg      \n",
            "  inflating: Sample/dog.180.jpg      \n",
            "  inflating: Sample/dog.192.jpg      \n",
            "  inflating: Sample/cat.145.jpg      \n",
            "  inflating: Sample/dog.285.jpg      \n",
            "  inflating: Sample/dog.18.jpg       \n",
            "  inflating: Sample/cat.482.jpg      \n",
            "  inflating: Sample/dog.309.jpg      \n",
            "  inflating: Sample/dog.61.jpg       \n",
            "  inflating: Sample/dog.458.jpg      \n",
            "  inflating: Sample/dog.116.jpg      \n",
            "  inflating: Sample/cat.195.jpg      \n",
            "  inflating: Sample/cat.488.jpg      \n",
            "  inflating: Sample/cat.27.jpg       \n",
            "  inflating: Sample/dog.453.jpg      \n",
            "  inflating: Sample/cat.272.jpg      \n",
            "  inflating: Sample/dog.175.jpg      \n",
            "  inflating: Sample/cat.387.jpg      \n",
            "  inflating: Sample/cat.109.jpg      \n",
            "  inflating: Sample/cat.127.jpg      \n",
            "  inflating: Sample/dog.404.jpg      \n",
            "  inflating: Sample/cat.197.jpg      \n",
            "  inflating: Sample/dog.497.jpg      \n",
            "  inflating: Sample/cat.383.jpg      \n",
            "  inflating: Sample/cat.333.jpg      \n",
            "  inflating: Sample/dog.197.jpg      \n",
            "  inflating: Sample/cat.166.jpg      \n",
            "  inflating: Sample/cat.227.jpg      \n",
            "  inflating: Sample/dog.302.jpg      \n",
            "  inflating: Sample/dog.82.jpg       \n",
            "  inflating: Sample/dog.371.jpg      \n",
            "  inflating: Sample/dog.472.jpg      \n",
            "  inflating: Sample/dog.146.jpg      \n",
            "  inflating: Sample/dog.440.jpg      \n",
            "  inflating: Sample/cat.426.jpg      \n",
            "  inflating: Sample/cat.256.jpg      \n",
            "  inflating: Sample/cat.319.jpg      \n",
            "  inflating: Sample/dog.433.jpg      \n",
            "  inflating: Sample/dog.267.jpg      \n",
            "  inflating: Sample/cat.141.jpg      \n",
            "  inflating: Sample/dog.467.jpg      \n",
            "  inflating: Sample/dog.339.jpg      \n",
            "  inflating: Sample/dog.407.jpg      \n",
            "  inflating: Sample/cat.112.jpg      \n",
            "  inflating: Sample/dog.397.jpg      \n",
            "  inflating: Sample/cat.414.jpg      \n",
            "  inflating: Sample/dog.106.jpg      \n",
            "  inflating: Sample/dog.90.jpg       \n",
            "  inflating: Sample/dog.342.jpg      \n",
            "  inflating: Sample/dog.193.jpg      \n",
            "  inflating: Sample/cat.233.jpg      \n",
            "  inflating: Sample/cat.385.jpg      \n",
            "  inflating: Sample/cat.124.jpg      \n",
            "  inflating: Sample/dog.107.jpg      \n",
            "  inflating: Sample/cat.153.jpg      \n",
            "  inflating: Sample/cat.386.jpg      \n",
            "  inflating: Sample/cat.325.jpg      \n",
            "  inflating: Sample/cat.437.jpg      \n",
            "  inflating: Sample/dog.71.jpg       \n",
            "  inflating: Sample/cat.90.jpg       \n",
            "  inflating: Sample/dog.112.jpg      \n",
            "  inflating: Sample/dog.439.jpg      \n",
            "  inflating: Sample/cat.152.jpg      \n",
            "  inflating: Sample/dog.99.jpg       \n",
            "  inflating: Sample/cat.17.jpg       \n",
            "  inflating: Sample/cat.363.jpg      \n",
            "  inflating: Sample/dog.426.jpg      \n",
            "  inflating: Sample/cat.388.jpg      \n",
            "  inflating: Sample/dog.274.jpg      \n",
            "  inflating: Sample/dog.326.jpg      \n",
            "  inflating: Sample/cat.238.jpg      \n",
            "  inflating: Sample/cat.401.jpg      \n",
            "  inflating: Sample/dog.81.jpg       \n",
            "  inflating: Sample/dog.354.jpg      \n",
            "  inflating: Sample/cat.107.jpg      \n",
            "  inflating: Sample/cat.450.jpg      \n",
            "  inflating: Sample/cat.157.jpg      \n",
            "  inflating: Sample/dog.403.jpg      \n",
            "  inflating: Sample/dog.415.jpg      \n",
            "  inflating: Sample/dog.378.jpg      \n",
            "  inflating: Sample/dog.31.jpg       \n",
            "  inflating: Sample/dog.337.jpg      \n",
            "  inflating: Sample/cat.35.jpg       \n",
            "  inflating: Sample/cat.260.jpg      \n",
            "  inflating: Sample/dog.367.jpg      \n",
            "  inflating: Sample/cat.75.jpg       \n",
            "  inflating: Sample/cat.221.jpg      \n",
            "  inflating: Sample/dog.199.jpg      \n",
            "  inflating: Sample/cat.276.jpg      \n",
            "  inflating: Sample/cat.47.jpg       \n",
            "  inflating: Sample/dog.316.jpg      \n",
            "  inflating: Sample/dog.103.jpg      \n",
            "  inflating: Sample/cat.406.jpg      \n",
            "  inflating: Sample/cat.169.jpg      \n",
            "  inflating: Sample/dog.19.jpg       \n",
            "  inflating: Sample/dog.463.jpg      \n",
            "  inflating: Sample/dog.16.jpg       \n",
            "  inflating: Sample/dog.202.jpg      \n",
            "  inflating: Sample/cat.324.jpg      \n",
            "  inflating: Sample/cat.210.jpg      \n",
            "  inflating: Sample/cat.466.jpg      \n",
            "  inflating: Sample/cat.21.jpg       \n",
            "  inflating: Sample/cat.98.jpg       \n",
            "  inflating: Sample/dog.319.jpg      \n",
            "  inflating: Sample/dog.142.jpg      \n",
            "  inflating: Sample/cat.136.jpg      \n",
            "  inflating: Sample/cat.73.jpg       \n",
            "  inflating: Sample/cat.446.jpg      \n",
            "  inflating: Sample/cat.217.jpg      \n",
            "  inflating: Sample/cat.323.jpg      \n",
            "  inflating: Sample/dog.332.jpg      \n",
            "  inflating: Sample/cat.214.jpg      \n",
            "  inflating: Sample/dog.96.jpg       \n",
            "  inflating: Sample/dog.177.jpg      \n",
            "  inflating: Sample/dog.93.jpg       \n",
            "  inflating: Sample/cat.80.jpg       \n",
            "  inflating: Sample/dog.163.jpg      \n",
            "  inflating: Sample/cat.185.jpg      \n",
            "  inflating: Sample/cat.225.jpg      \n",
            "  inflating: Sample/dog.338.jpg      \n",
            "  inflating: Sample/cat.347.jpg      \n",
            "  inflating: Sample/cat.469.jpg      \n",
            "  inflating: Sample/dog.474.jpg      \n",
            "  inflating: Sample/cat.41.jpg       \n",
            "  inflating: Sample/dog.310.jpg      \n",
            "  inflating: Sample/cat.356.jpg      \n",
            "  inflating: Sample/cat.170.jpg      \n",
            "  inflating: Sample/dog.346.jpg      \n",
            "  inflating: Sample/cat.243.jpg      \n",
            "  inflating: Sample/dog.29.jpg       \n",
            "  inflating: Sample/cat.265.jpg      \n",
            "  inflating: Sample/cat.229.jpg      \n",
            "  inflating: Sample/cat.302.jpg      \n",
            "  inflating: Sample/dog.452.jpg      \n",
            "  inflating: Sample/dog.2.jpg        \n",
            "  inflating: Sample/dog.422.jpg      \n",
            "  inflating: Sample/dog.329.jpg      \n",
            "  inflating: Sample/dog.475.jpg      \n",
            "  inflating: Sample/dog.291.jpg      \n",
            "  inflating: Sample/dog.311.jpg      \n",
            "  inflating: Sample/cat.293.jpg      \n",
            "  inflating: Sample/dog.293.jpg      \n",
            "  inflating: Sample/cat.468.jpg      \n",
            "  inflating: Sample/dog.210.jpg      \n",
            "  inflating: Sample/dog.241.jpg      \n",
            "  inflating: Sample/dog.0.jpg        \n",
            "  inflating: Sample/dog.270.jpg      \n",
            "  inflating: Sample/cat.296.jpg      \n",
            "  inflating: Sample/dog.204.jpg      \n",
            "  inflating: Sample/cat.37.jpg       \n",
            "  inflating: Sample/dog.33.jpg       \n",
            "  inflating: Sample/dog.6.jpg        \n",
            "  inflating: Sample/dog.357.jpg      \n",
            "  inflating: Sample/dog.218.jpg      \n",
            "  inflating: Sample/dog.427.jpg      \n",
            "  inflating: Sample/cat.64.jpg       \n",
            "  inflating: Sample/cat.59.jpg       \n",
            "  inflating: Sample/dog.436.jpg      \n",
            "  inflating: Sample/cat.281.jpg      \n",
            "  inflating: Sample/dog.499.jpg      \n",
            "  inflating: Sample/cat.290.jpg      \n",
            "  inflating: Sample/dog.454.jpg      \n",
            "  inflating: Sample/cat.362.jpg      \n",
            "  inflating: Sample/dog.118.jpg      \n",
            "  inflating: Sample/dog.276.jpg      \n",
            "  inflating: Sample/dog.243.jpg      \n",
            "  inflating: Sample/cat.395.jpg      \n",
            "  inflating: Sample/dog.237.jpg      \n",
            "  inflating: Sample/dog.165.jpg      \n",
            "  inflating: Sample/dog.174.jpg      \n",
            "  inflating: Sample/dog.100.jpg      \n",
            "  inflating: Sample/dog.441.jpg      \n",
            "  inflating: Sample/dog.459.jpg      \n",
            "  inflating: Sample/dog.396.jpg      \n",
            "  inflating: Sample/cat.106.jpg      \n",
            "  inflating: Sample/cat.82.jpg       \n",
            "  inflating: Sample/dog.312.jpg      \n",
            "  inflating: Sample/cat.449.jpg      \n",
            "  inflating: Sample/cat.147.jpg      \n",
            "  inflating: Sample/cat.15.jpg       \n",
            "  inflating: Sample/cat.181.jpg      \n",
            "  inflating: Sample/dog.409.jpg      \n",
            "  inflating: Sample/dog.347.jpg      \n",
            "  inflating: Sample/cat.248.jpg      \n",
            "  inflating: Sample/cat.263.jpg      \n",
            "  inflating: Sample/dog.22.jpg       \n",
            "  inflating: Sample/cat.436.jpg      \n",
            "  inflating: Sample/dog.224.jpg      \n",
            "  inflating: Sample/dog.249.jpg      \n",
            "  inflating: Sample/cat.300.jpg      \n",
            "  inflating: Sample/cat.397.jpg      \n",
            "  inflating: Sample/dog.75.jpg       \n",
            "  inflating: Sample/cat.223.jpg      \n",
            "  inflating: Sample/cat.62.jpg       \n",
            "  inflating: Sample/cat.411.jpg      \n",
            "  inflating: Sample/dog.349.jpg      \n",
            "  inflating: Sample/cat.282.jpg      \n",
            "  inflating: Sample/dog.113.jpg      \n",
            "  inflating: Sample/dog.62.jpg       \n",
            "  inflating: Sample/dog.406.jpg      \n",
            "  inflating: Sample/cat.345.jpg      \n",
            "  inflating: Sample/dog.172.jpg      \n",
            "  inflating: Sample/cat.489.jpg      \n",
            "  inflating: Sample/dog.222.jpg      \n",
            "  inflating: Sample/cat.454.jpg      \n",
            "  inflating: Sample/dog.240.jpg      \n",
            "  inflating: Sample/dog.334.jpg      \n",
            "  inflating: Sample/cat.139.jpg      \n",
            "  inflating: Sample/dog.46.jpg       \n",
            "  inflating: Sample/dog.120.jpg      \n",
            "  inflating: Sample/cat.29.jpg       \n",
            "  inflating: Sample/dog.466.jpg      \n",
            "  inflating: Sample/dog.431.jpg      \n",
            "  inflating: Sample/dog.140.jpg      \n",
            "  inflating: Sample/dog.460.jpg      \n",
            "  inflating: Sample/cat.430.jpg      \n",
            "  inflating: Sample/cat.57.jpg       \n",
            "  inflating: Sample/dog.271.jpg      \n",
            "  inflating: Sample/cat.131.jpg      \n",
            "  inflating: Sample/cat.19.jpg       \n",
            "  inflating: Sample/dog.320.jpg      \n",
            "  inflating: Sample/cat.410.jpg      \n",
            "  inflating: Sample/dog.254.jpg      \n",
            "  inflating: Sample/cat.277.jpg      \n",
            "  inflating: Sample/dog.36.jpg       \n",
            "  inflating: Sample/cat.390.jpg      \n",
            "  inflating: Sample/dog.278.jpg      \n",
            "  inflating: Sample/cat.121.jpg      \n",
            "  inflating: Sample/cat.348.jpg      \n",
            "  inflating: Sample/dog.351.jpg      \n",
            "  inflating: Sample/cat.231.jpg      \n",
            "  inflating: Sample/dog.57.jpg       \n",
            "  inflating: Sample/dog.488.jpg      \n",
            "  inflating: Sample/cat.403.jpg      \n",
            "  inflating: Sample/dog.83.jpg       \n",
            "  inflating: Sample/dog.8.jpg        \n",
            "  inflating: Sample/dog.377.jpg      \n",
            "  inflating: Sample/cat.444.jpg      \n",
            "  inflating: Sample/cat.125.jpg      \n",
            "  inflating: Sample/cat.269.jpg      \n",
            "  inflating: Sample/cat.257.jpg      \n",
            "  inflating: Sample/dog.496.jpg      \n",
            "  inflating: Sample/cat.409.jpg      \n",
            "  inflating: Sample/dog.303.jpg      \n",
            "  inflating: Sample/dog.457.jpg      \n",
            "  inflating: Sample/dog.265.jpg      \n",
            "  inflating: Sample/dog.483.jpg      \n",
            "  inflating: Sample/dog.232.jpg      \n",
            "  inflating: Sample/cat.189.jpg      \n",
            "  inflating: Sample/cat.120.jpg      \n",
            "  inflating: Sample/dog.277.jpg      \n",
            "  inflating: Sample/cat.34.jpg       \n",
            "  inflating: Sample/cat.419.jpg      \n",
            "  inflating: Sample/dog.345.jpg      \n",
            "  inflating: Sample/dog.158.jpg      \n",
            "  inflating: Sample/dog.48.jpg       \n",
            "  inflating: Sample/dog.228.jpg      \n",
            "  inflating: Sample/dog.95.jpg       \n",
            "  inflating: Sample/dog.443.jpg      \n",
            "  inflating: Sample/cat.423.jpg      \n",
            "  inflating: Sample/cat.245.jpg      \n",
            "  inflating: Sample/dog.484.jpg      \n",
            "  inflating: Sample/cat.72.jpg       \n",
            "  inflating: Sample/dog.7.jpg        \n",
            "  inflating: Sample/cat.267.jpg      \n",
            "  inflating: Sample/cat.65.jpg       \n",
            "  inflating: Sample/cat.191.jpg      \n",
            "  inflating: Sample/cat.132.jpg      \n",
            "  inflating: Sample/dog.442.jpg      \n",
            "  inflating: Sample/dog.27.jpg       \n",
            "  inflating: Sample/dog.340.jpg      \n",
            "  inflating: Sample/dog.471.jpg      \n",
            "  inflating: Sample/cat.213.jpg      \n",
            "  inflating: Sample/cat.365.jpg      \n",
            "  inflating: Sample/cat.337.jpg      \n",
            "  inflating: Sample/dog.304.jpg      \n",
            "  inflating: Sample/cat.344.jpg      \n",
            "  inflating: Sample/dog.395.jpg      \n",
            "  inflating: Sample/cat.453.jpg      \n",
            "  inflating: Sample/dog.261.jpg      \n",
            "  inflating: Sample/cat.77.jpg       \n",
            "  inflating: Sample/cat.242.jpg      \n",
            "  inflating: Sample/dog.73.jpg       \n",
            "  inflating: Sample/cat.159.jpg      \n",
            "  inflating: Sample/cat.192.jpg      \n",
            "  inflating: Sample/dog.152.jpg      \n",
            "  inflating: Sample/cat.271.jpg      \n",
            "  inflating: Sample/dog.187.jpg      \n",
            "  inflating: Sample/cat.55.jpg       \n",
            "  inflating: Sample/cat.100.jpg      \n",
            "  inflating: Sample/cat.237.jpg      \n",
            "  inflating: Sample/dog.355.jpg      \n",
            "  inflating: Sample/cat.366.jpg      \n",
            "  inflating: Sample/dog.328.jpg      \n",
            "  inflating: Sample/cat.331.jpg      \n",
            "  inflating: Sample/dog.437.jpg      \n",
            "  inflating: Sample/dog.189.jpg      \n",
            "  inflating: Sample/cat.193.jpg      \n",
            "  inflating: Sample/dog.410.jpg      \n",
            "  inflating: Sample/dog.87.jpg       \n",
            "  inflating: Sample/dog.344.jpg      \n",
            "  inflating: Sample/dog.327.jpg      \n",
            "  inflating: Sample/dog.141.jpg      \n",
            "  inflating: Sample/dog.68.jpg       \n",
            "  inflating: Sample/dog.122.jpg      \n",
            "  inflating: Sample/cat.158.jpg      \n",
            "  inflating: Sample/cat.460.jpg      \n",
            "  inflating: Sample/cat.280.jpg      \n",
            "  inflating: Sample/dog.456.jpg      \n",
            "  inflating: Sample/dog.385.jpg      \n",
            "  inflating: Sample/dog.242.jpg      \n",
            "  inflating: Sample/cat.194.jpg      \n",
            "  inflating: Sample/dog.50.jpg       \n",
            "  inflating: Sample/cat.97.jpg       \n",
            "  inflating: Sample/cat.123.jpg      \n",
            "  inflating: Sample/cat.255.jpg      \n",
            "  inflating: Sample/cat.380.jpg      \n",
            "  inflating: Sample/cat.279.jpg      \n",
            "  inflating: Sample/cat.144.jpg      \n",
            "  inflating: Sample/dog.359.jpg      \n",
            "  inflating: Sample/cat.322.jpg      \n",
            "  inflating: Sample/dog.451.jpg      \n",
            "  inflating: Sample/dog.450.jpg      \n",
            "  inflating: Sample/dog.325.jpg      \n",
            "  inflating: Sample/cat.261.jpg      \n",
            "  inflating: Sample/cat.133.jpg      \n",
            "  inflating: Sample/cat.171.jpg      \n",
            "  inflating: Sample/cat.219.jpg      \n",
            "  inflating: Sample/cat.178.jpg      \n",
            "  inflating: Sample/cat.67.jpg       \n",
            "  inflating: Sample/dog.139.jpg      \n",
            "  inflating: Sample/dog.230.jpg      \n",
            "  inflating: Sample/dog.13.jpg       \n",
            "  inflating: Sample/cat.341.jpg      \n",
            "  inflating: Sample/dog.94.jpg       \n",
            "  inflating: Sample/cat.138.jpg      \n",
            "  inflating: Sample/dog.297.jpg      \n",
            "  inflating: Sample/cat.491.jpg      \n",
            "  inflating: Sample/cat.249.jpg      \n",
            "  inflating: Sample/cat.143.jpg      \n",
            "  inflating: Sample/dog.220.jpg      \n",
            "  inflating: Sample/dog.69.jpg       \n",
            "  inflating: Sample/cat.455.jpg      \n",
            "  inflating: Sample/cat.336.jpg      \n",
            "  inflating: Sample/cat.314.jpg      \n",
            "  inflating: Sample/dog.498.jpg      \n",
            "  inflating: Sample/dog.250.jpg      \n",
            "  inflating: Sample/dog.64.jpg       \n",
            "  inflating: Sample/dog.149.jpg      \n",
            "  inflating: Sample/cat.313.jpg      \n",
            "  inflating: Sample/dog.384.jpg      \n",
            "  inflating: Sample/cat.417.jpg      \n",
            "  inflating: Sample/dog.479.jpg      \n",
            "  inflating: Sample/cat.8.jpg        \n",
            "  inflating: Sample/dog.121.jpg      \n",
            "  inflating: Sample/cat.180.jpg      \n",
            "  inflating: Sample/cat.148.jpg      \n",
            "  inflating: Sample/dog.299.jpg      \n",
            "  inflating: Sample/cat.289.jpg      \n",
            "  inflating: Sample/cat.391.jpg      \n",
            "  inflating: Sample/cat.83.jpg       \n",
            "  inflating: Sample/cat.111.jpg      \n",
            "  inflating: Sample/cat.316.jpg      \n",
            "  inflating: Sample/dog.182.jpg      \n",
            "  inflating: Sample/dog.161.jpg      \n",
            "  inflating: Sample/cat.268.jpg      \n",
            "  inflating: Sample/dog.207.jpg      \n",
            "  inflating: Sample/dog.279.jpg      \n",
            "  inflating: Sample/dog.382.jpg      \n",
            "  inflating: Sample/dog.43.jpg       \n",
            "  inflating: Sample/dog.35.jpg       \n",
            "  inflating: Sample/dog.255.jpg      \n",
            "  inflating: Sample/dog.244.jpg      \n",
            "  inflating: Sample/cat.275.jpg      \n",
            "  inflating: Sample/cat.160.jpg      \n",
            "  inflating: Sample/dog.47.jpg       \n",
            "  inflating: Sample/cat.360.jpg      \n",
            "  inflating: Sample/dog.399.jpg      \n",
            "  inflating: Sample/cat.254.jpg      \n",
            "  inflating: Sample/dog.296.jpg      \n",
            "  inflating: Sample/dog.289.jpg      \n",
            "  inflating: Sample/dog.318.jpg      \n",
            "  inflating: Sample/cat.478.jpg      \n",
            "  inflating: Sample/dog.411.jpg      \n",
            "  inflating: Sample/dog.482.jpg      \n",
            "  inflating: Sample/cat.208.jpg      \n",
            "  inflating: Sample/dog.335.jpg      \n",
            "  inflating: Sample/dog.333.jpg      \n",
            "  inflating: Sample/dog.256.jpg      \n",
            "  inflating: Sample/cat.471.jpg      \n",
            "  inflating: Sample/dog.200.jpg      \n",
            "  inflating: Sample/dog.201.jpg      \n",
            "  inflating: Sample/dog.131.jpg      \n",
            "  inflating: Sample/cat.270.jpg      \n",
            "  inflating: Sample/cat.175.jpg      \n",
            "  inflating: Sample/dog.447.jpg      \n",
            "  inflating: Sample/dog.51.jpg       \n",
            "  inflating: Sample/cat.463.jpg      \n",
            "  inflating: Sample/cat.246.jpg      \n",
            "  inflating: Sample/dog.134.jpg      \n",
            "  inflating: Sample/cat.441.jpg      \n",
            "  inflating: Sample/dog.10.jpg       \n",
            "  inflating: Sample/cat.457.jpg      \n",
            "  inflating: Sample/dog.168.jpg      \n",
            "  inflating: Sample/cat.161.jpg      \n",
            "  inflating: Sample/cat.71.jpg       \n",
            "  inflating: Sample/cat.379.jpg      \n",
            "  inflating: Sample/cat.433.jpg      \n",
            "  inflating: Sample/cat.201.jpg      \n",
            "  inflating: Sample/dog.444.jpg      \n",
            "  inflating: Sample/cat.487.jpg      \n",
            "  inflating: Sample/dog.352.jpg      \n",
            "  inflating: Sample/dog.145.jpg      \n",
            "  inflating: Sample/dog.206.jpg      \n",
            "  inflating: Sample/cat.12.jpg       \n",
            "  inflating: Sample/cat.367.jpg      \n",
            "  inflating: Sample/dog.157.jpg      \n",
            "  inflating: Sample/cat.46.jpg       \n",
            "  inflating: Sample/cat.85.jpg       \n",
            "  inflating: Sample/cat.477.jpg      \n",
            "  inflating: Sample/dog.247.jpg      \n",
            "  inflating: Sample/cat.7.jpg        \n",
            "  inflating: Sample/dog.434.jpg      \n",
            "  inflating: Sample/dog.76.jpg       \n",
            "  inflating: Sample/cat.262.jpg      \n",
            "  inflating: Sample/dog.213.jpg      \n",
            "  inflating: Sample/dog.147.jpg      \n",
            "  inflating: Sample/cat.228.jpg      \n",
            "  inflating: Sample/cat.382.jpg      \n",
            "  inflating: Sample/dog.435.jpg      \n",
            "  inflating: Sample/cat.247.jpg      \n",
            "  inflating: Sample/cat.492.jpg      \n",
            "  inflating: Sample/dog.495.jpg      \n",
            "  inflating: Sample/cat.435.jpg      \n",
            "  inflating: Sample/cat.211.jpg      \n",
            "  inflating: Sample/cat.215.jpg      \n",
            "  inflating: Sample/cat.315.jpg      \n",
            "  inflating: Sample/cat.310.jpg      \n",
            "  inflating: Sample/dog.273.jpg      \n",
            "  inflating: Sample/dog.323.jpg      \n",
            "  inflating: Sample/dog.245.jpg      \n",
            "  inflating: Sample/cat.358.jpg      \n",
            "  inflating: Sample/cat.292.jpg      \n",
            "  inflating: Sample/cat.287.jpg      \n",
            "  inflating: Sample/cat.486.jpg      \n",
            "  inflating: Sample/dog.28.jpg       \n",
            "  inflating: Sample/dog.59.jpg       \n",
            "  inflating: Sample/cat.318.jpg      \n",
            "  inflating: Sample/cat.252.jpg      \n",
            "  inflating: Sample/cat.236.jpg      \n",
            "  inflating: Sample/cat.384.jpg      \n",
            "  inflating: Sample/cat.218.jpg      \n",
            "  inflating: Sample/cat.354.jpg      \n",
            "  inflating: Sample/cat.129.jpg      \n",
            "  inflating: Sample/cat.298.jpg      \n",
            "  inflating: Sample/cat.95.jpg       \n",
            "  inflating: Sample/cat.264.jpg      \n",
            "  inflating: Sample/cat.222.jpg      \n",
            "  inflating: Sample/dog.108.jpg      \n",
            "  inflating: Sample/cat.299.jpg      \n",
            "  inflating: Sample/cat.60.jpg       \n",
            "  inflating: Sample/cat.198.jpg      \n",
            "  inflating: Sample/cat.291.jpg      \n",
            "  inflating: Sample/dog.166.jpg      \n",
            "  inflating: Sample/cat.23.jpg       \n",
            "  inflating: Sample/cat.130.jpg      \n",
            "  inflating: Sample/dog.72.jpg       \n",
            "  inflating: Sample/dog.127.jpg      \n",
            "  inflating: Sample/dog.461.jpg      \n",
            "  inflating: Sample/dog.137.jpg      \n",
            "  inflating: Sample/cat.447.jpg      \n",
            "  inflating: Sample/dog.412.jpg      \n",
            "  inflating: Sample/dog.14.jpg       \n",
            "  inflating: Sample/cat.353.jpg      \n",
            "  inflating: Sample/cat.389.jpg      \n",
            "  inflating: Sample/dog.55.jpg       \n",
            "  inflating: Sample/dog.26.jpg       \n",
            "  inflating: Sample/cat.328.jpg      \n",
            "  inflating: Sample/cat.361.jpg      \n",
            "  inflating: Sample/dog.128.jpg      \n",
            "  inflating: Sample/cat.126.jpg      \n",
            "  inflating: Sample/dog.465.jpg      \n",
            "  inflating: Sample/cat.470.jpg      \n",
            "  inflating: Sample/dog.292.jpg      \n",
            "  inflating: Sample/dog.44.jpg       \n",
            "  inflating: Sample/cat.346.jpg      \n",
            "  inflating: Sample/dog.170.jpg      \n",
            "  inflating: Sample/dog.486.jpg      \n",
            "  inflating: Sample/cat.443.jpg      \n",
            "  inflating: Sample/dog.386.jpg      \n",
            "  inflating: Sample/dog.88.jpg       \n",
            "  inflating: Sample/cat.163.jpg      \n",
            "  inflating: Sample/dog.233.jpg      \n",
            "  inflating: Sample/cat.240.jpg      \n",
            "  inflating: Sample/dog.301.jpg      \n",
            "  inflating: Sample/dog.171.jpg      \n",
            "  inflating: Sample/dog.269.jpg      \n",
            "  inflating: Sample/cat.498.jpg      \n",
            "  inflating: Sample/cat.0.jpg        \n",
            "  inflating: Sample/dog.408.jpg      \n",
            "  inflating: Sample/dog.360.jpg      \n",
            "  inflating: Sample/dog.424.jpg      \n",
            "  inflating: Sample/dog.184.jpg      \n",
            "  inflating: Sample/dog.125.jpg      \n",
            "  inflating: Sample/dog.225.jpg      \n",
            "  inflating: Sample/cat.330.jpg      \n",
            "  inflating: Sample/cat.373.jpg      \n",
            "  inflating: Sample/cat.407.jpg      \n",
            "  inflating: Sample/cat.381.jpg      \n",
            "  inflating: Sample/dog.17.jpg       \n",
            "  inflating: Sample/dog.494.jpg      \n",
            "  inflating: Sample/dog.4.jpg        \n",
            "  inflating: Sample/cat.422.jpg      \n",
            "  inflating: Sample/cat.351.jpg      \n",
            "  inflating: Sample/dog.66.jpg       \n",
            "  inflating: Sample/cat.176.jpg      \n",
            "  inflating: Sample/dog.21.jpg       \n",
            "  inflating: Sample/cat.297.jpg      \n",
            "  inflating: Sample/dog.330.jpg      \n",
            "  inflating: Sample/dog.414.jpg      \n",
            "  inflating: Sample/cat.308.jpg      \n",
            "  inflating: Sample/dog.196.jpg      \n",
            "  inflating: Sample/cat.241.jpg      \n",
            "  inflating: Sample/dog.413.jpg      \n",
            "  inflating: Sample/cat.74.jpg       \n",
            "  inflating: Sample/cat.81.jpg       \n",
            "  inflating: Sample/cat.251.jpg      \n",
            "  inflating: Sample/dog.388.jpg      \n",
            "  inflating: Sample/dog.275.jpg      \n",
            "  inflating: Sample/dog.262.jpg      \n",
            "  inflating: Sample/dog.186.jpg      \n",
            "  inflating: Sample/dog.268.jpg      \n",
            "  inflating: Sample/cat.156.jpg      \n",
            "  inflating: Sample/cat.408.jpg      \n",
            "  inflating: Sample/cat.9.jpg        \n",
            "  inflating: Sample/dog.390.jpg      \n",
            "  inflating: Sample/cat.431.jpg      \n",
            "  inflating: Sample/cat.5.jpg        \n",
            "  inflating: Sample/dog.164.jpg      \n",
            "  inflating: Sample/dog.97.jpg       \n",
            "  inflating: Sample/dog.209.jpg      \n",
            "  inflating: Sample/dog.341.jpg      \n",
            "  inflating: Sample/dog.110.jpg      \n",
            "  inflating: Sample/cat.93.jpg       \n",
            "  inflating: Sample/dog.391.jpg      \n",
            "  inflating: Sample/cat.462.jpg      \n",
            "  inflating: Sample/cat.108.jpg      \n",
            "  inflating: Sample/cat.44.jpg       \n",
            "  inflating: Sample/dog.477.jpg      \n"
          ],
          "name": "stdout"
        }
      ]
    },
    {
      "cell_type": "markdown",
      "metadata": {
        "id": "ctaoxrVHwwe3",
        "colab_type": "text"
      },
      "source": [
        "#### Now lets get to work : First we will import librairies we need"
      ]
    },
    {
      "cell_type": "code",
      "metadata": {
        "id": "TwRXxtQNCT7S",
        "colab_type": "code",
        "colab": {}
      },
      "source": [
        "import cv2 #OpenCV is a library of programming functions mainly aimed at real-time computer vision.\n",
        "import matplotlib.pyplot as plt # Matplotlib for visualization\n",
        "import numpy as np # Numpy for array manipulations later\n",
        "from os import walk\n",
        "import glob # walk and glob will be used to extract file names, since classes are in the names\n",
        "import warnings\n",
        "warnings.filterwarnings(\"ignore\") #Disable warning "
      ],
      "execution_count": 0,
      "outputs": []
    },
    {
      "cell_type": "markdown",
      "metadata": {
        "id": "ujJZpOYixn4m",
        "colab_type": "text"
      },
      "source": [
        "#### Now, we will read images using opencv, then we wil resize them all to 64*64 pixel, normalize their values and store them in a list. And all of this in 1 Line ! See how cool can Python be ?"
      ]
    },
    {
      "cell_type": "code",
      "metadata": {
        "id": "VE76egC4EhXR",
        "colab_type": "code",
        "colab": {}
      },
      "source": [
        "Images = [(cv2.resize((cv2.imread(file)),(64,64)))/255 for file in glob.glob(\"/content/Cats_Dogs/Sample/*.jpg\")]    "
      ],
      "execution_count": 0,
      "outputs": []
    },
    {
      "cell_type": "code",
      "metadata": {
        "id": "iwn-5dLVyLQ4",
        "colab_type": "code",
        "colab": {
          "base_uri": "https://localhost:8080/",
          "height": 286
        },
        "outputId": "4e08b344-95ed-44b3-9737-21d49a342072"
      },
      "source": [
        "plt.imshow(Images[1]) #This is a dog"
      ],
      "execution_count": 40,
      "outputs": [
        {
          "output_type": "execute_result",
          "data": {
            "text/plain": [
              "<matplotlib.image.AxesImage at 0x7fa695946e10>"
            ]
          },
          "metadata": {
            "tags": []
          },
          "execution_count": 40
        },
        {
          "output_type": "display_data",
          "data": {
            "image/png": "[encoded data removed]",
            "text/plain": [
              "<Figure size 432x288 with 1 Axes>"
            ]
          },
          "metadata": {
            "tags": []
          }
        }
      ]
    },
    {
      "cell_type": "code",
      "metadata": {
        "id": "kyIBduDIyO_f",
        "colab_type": "code",
        "colab": {
          "base_uri": "https://localhost:8080/",
          "height": 286
        },
        "outputId": "9b09a5e7-6f00-4967-cac7-cb698a9986cb"
      },
      "source": [
        "plt.imshow(Images[950]) #And this is a Cat "
      ],
      "execution_count": 39,
      "outputs": [
        {
          "output_type": "execute_result",
          "data": {
            "text/plain": [
              "<matplotlib.image.AxesImage at 0x7fa695970278>"
            ]
          },
          "metadata": {
            "tags": []
          },
          "execution_count": 39
        },
        {
          "output_type": "display_data",
          "data": {
            "image/png": "[encoded data removed]",
            "text/plain": [
              "<Figure size 432x288 with 1 Axes>"
            ]
          },
          "metadata": {
            "tags": []
          }
        }
      ]
    },
    {
      "cell_type": "markdown",
      "metadata": {
        "id": "wq7ffLsIx_zi",
        "colab_type": "text"
      },
      "source": [
        "#### Next, we extract file names from our folder"
      ]
    },
    {
      "cell_type": "code",
      "metadata": {
        "id": "WAW_26HdIpAL",
        "colab_type": "code",
        "colab": {}
      },
      "source": [
        "Names = []\n",
        "for (dirpath, dirnames, filenames) in walk(\"/content/Cats_Dogs/Sample/\"):\n",
        "    Names.extend(filenames)\n",
        "    break"
      ],
      "execution_count": 0,
      "outputs": []
    },
    {
      "cell_type": "code",
      "metadata": {
        "id": "V5fb1ipIHUMz",
        "colab_type": "code",
        "colab": {
          "base_uri": "https://localhost:8080/",
          "height": 35
        },
        "outputId": "5423f9f3-c123-4f19-d60a-7ee5850dca33"
      },
      "source": [
        "Names[950] #We have to remove the extension (.jpg) and the first number"
      ],
      "execution_count": 43,
      "outputs": [
        {
          "output_type": "execute_result",
          "data": {
            "text/plain": [
              "'cat.148.jpg'"
            ]
          },
          "metadata": {
            "tags": []
          },
          "execution_count": 43
        }
      ]
    },
    {
      "cell_type": "markdown",
      "metadata": {
        "id": "Ja4ddQe2ypKH",
        "colab_type": "text"
      },
      "source": [
        "#### Lets create a loop using for, chop the part where we have a dot (.), and remove the extension"
      ]
    },
    {
      "cell_type": "code",
      "metadata": {
        "id": "WpKzxE3AJ80s",
        "colab_type": "code",
        "colab": {}
      },
      "source": [
        "i=0\n",
        "for name in Names:\n",
        "    name=name[:name.find('.')]\n",
        "    name=name.replace(\".jpg\",\"\")\n",
        "    Names[i]=name\n",
        "    i+=1"
      ],
      "execution_count": 0,
      "outputs": []
    },
    {
      "cell_type": "code",
      "metadata": {
        "id": "cH13aSORKkl9",
        "colab_type": "code",
        "colab": {
          "base_uri": "https://localhost:8080/",
          "height": 35
        },
        "outputId": "a01470dc-4185-491e-e132-0ed6ff36ef29"
      },
      "source": [
        "Names[300] #Perfect"
      ],
      "execution_count": 53,
      "outputs": [
        {
          "output_type": "execute_result",
          "data": {
            "text/plain": [
              "'cat'"
            ]
          },
          "metadata": {
            "tags": []
          },
          "execution_count": 53
        }
      ]
    },
    {
      "cell_type": "markdown",
      "metadata": {
        "id": "0-d_Lbi9zBe_",
        "colab_type": "text"
      },
      "source": [
        "#### Now, we will use X as a name for the features, and Y for the target"
      ]
    },
    {
      "cell_type": "code",
      "metadata": {
        "id": "vyzA3LiBWV-3",
        "colab_type": "code",
        "colab": {}
      },
      "source": [
        "X = Images\n",
        "Y = Names"
      ],
      "execution_count": 0,
      "outputs": []
    },
    {
      "cell_type": "markdown",
      "metadata": {
        "id": "lBAwOMxzzLGR",
        "colab_type": "text"
      },
      "source": [
        "#### Let's split our data : 80%20% split"
      ]
    },
    {
      "cell_type": "code",
      "metadata": {
        "id": "Kle64AAIU1IS",
        "colab_type": "code",
        "colab": {}
      },
      "source": [
        "from sklearn.model_selection import train_test_split"
      ],
      "execution_count": 0,
      "outputs": []
    },
    {
      "cell_type": "code",
      "metadata": {
        "id": "Ds0GuFqXWQiZ",
        "colab_type": "code",
        "colab": {}
      },
      "source": [
        "X_train, X_test, Y_train, Y_test = train_test_split(X, Y, test_size=0.2)"
      ],
      "execution_count": 0,
      "outputs": []
    },
    {
      "cell_type": "markdown",
      "metadata": {
        "id": "5NQaSTj-zgtb",
        "colab_type": "text"
      },
      "source": [
        "### we cannot use the word 'cat' or 'dog' in our model, se we will be using **Integer Encoding**, and **Binary Encoding** \n",
        "\n",
        "*   Integer Encoding : assign an integer for each different class on our dataset\n",
        "*   Binary Encoding : Create a list with a lengh equal to the number of classes, and fill it with '0's, except the position assigned for a certain class, it will be set to '1'.\n",
        "\n"
      ]
    },
    {
      "cell_type": "code",
      "metadata": {
        "id": "k-bKF3gs1Bix",
        "colab_type": "code",
        "colab": {}
      },
      "source": [
        "#Import what we need\n",
        "from sklearn.preprocessing import LabelEncoder\n",
        "from sklearn.preprocessing import OneHotEncoder"
      ],
      "execution_count": 0,
      "outputs": []
    },
    {
      "cell_type": "code",
      "metadata": {
        "id": "aTaRwYaUYYvc",
        "colab_type": "code",
        "colab": {
          "base_uri": "https://localhost:8080/",
          "height": 35
        },
        "outputId": "6457fd3b-5493-4b23-a11c-8f39eb2db517"
      },
      "source": [
        "# define example\n",
        "values = np.array(Y_train)\n",
        "print(values[:10])#show the first 10 elements"
      ],
      "execution_count": 58,
      "outputs": [
        {
          "output_type": "stream",
          "text": [
            "['cat' 'cat' 'cat' 'dog' 'cat' 'cat' 'cat' 'cat' 'cat' 'cat']\n"
          ],
          "name": "stdout"
        }
      ]
    },
    {
      "cell_type": "code",
      "metadata": {
        "id": "m-JOht73YkyK",
        "colab_type": "code",
        "colab": {
          "base_uri": "https://localhost:8080/",
          "height": 35
        },
        "outputId": "eda9e325-1af1-4f0a-95fe-97b5f96faf70"
      },
      "source": [
        "# integer encode\n",
        "label_encoder = LabelEncoder()\n",
        "integer_encoded = label_encoder.fit_transform(Y_train)\n",
        "print(integer_encoded[:10])#show the first 10 elements"
      ],
      "execution_count": 59,
      "outputs": [
        {
          "output_type": "stream",
          "text": [
            "[0 0 0 1 0 0 0 0 0 0]\n"
          ],
          "name": "stdout"
        }
      ]
    },
    {
      "cell_type": "code",
      "metadata": {
        "id": "Dck2eWihY1bt",
        "colab_type": "code",
        "colab": {
          "base_uri": "https://localhost:8080/",
          "height": 199
        },
        "outputId": "b97fbc3d-f511-4a2b-a53f-5380dc6e73c0"
      },
      "source": [
        "# binary encode\n",
        "onehot_encoder = OneHotEncoder(sparse=False)\n",
        "integer_encoded = integer_encoded.reshape(len(integer_encoded), 1)\n",
        "onehot_encoded = onehot_encoder.fit_transform(integer_encoded)\n",
        "print(onehot_encoded[:10])"
      ],
      "execution_count": 60,
      "outputs": [
        {
          "output_type": "stream",
          "text": [
            "[[1. 0.]\n",
            " [1. 0.]\n",
            " [1. 0.]\n",
            " [0. 1.]\n",
            " [1. 0.]\n",
            " [1. 0.]\n",
            " [1. 0.]\n",
            " [1. 0.]\n",
            " [1. 0.]\n",
            " [1. 0.]]\n"
          ],
          "name": "stdout"
        }
      ]
    },
    {
      "cell_type": "code",
      "metadata": {
        "id": "6GZK5MD71xT0",
        "colab_type": "code",
        "colab": {
          "base_uri": "https://localhost:8080/",
          "height": 35
        },
        "outputId": "803902c1-bab4-40b1-f12f-632f64fce1dd"
      },
      "source": [
        "type(X_train)"
      ],
      "execution_count": 61,
      "outputs": [
        {
          "output_type": "execute_result",
          "data": {
            "text/plain": [
              "list"
            ]
          },
          "metadata": {
            "tags": []
          },
          "execution_count": 61
        }
      ]
    },
    {
      "cell_type": "code",
      "metadata": {
        "id": "Dap3NvTqYq9z",
        "colab_type": "code",
        "colab": {}
      },
      "source": [
        "X_train=np.array(X_train) #We need to convert X_train to an array to fit in our model\n",
        "Y_train=onehot_encoded #Binary encoding result"
      ],
      "execution_count": 0,
      "outputs": []
    },
    {
      "cell_type": "markdown",
      "metadata": {
        "id": "5QcRQXs1193v",
        "colab_type": "text"
      },
      "source": [
        "#### Now we will build our model"
      ]
    },
    {
      "cell_type": "code",
      "metadata": {
        "id": "09CWM1mwWot6",
        "colab_type": "code",
        "colab": {}
      },
      "source": [
        "from keras.layers.convolutional import Conv2D\n",
        "from keras.models import Sequential\n",
        "from keras.layers import Dense, Activation,MaxPooling2D,Dropout,Flatten\n",
        "from keras.layers.normalization import BatchNormalization"
      ],
      "execution_count": 0,
      "outputs": []
    },
    {
      "cell_type": "code",
      "metadata": {
        "id": "8uyeGDKMW55y",
        "colab_type": "code",
        "colab": {
          "base_uri": "https://localhost:8080/",
          "height": 635
        },
        "outputId": "89a42015-425d-4bf3-ed5f-444522e61fa6"
      },
      "source": [
        "model = Sequential()\n",
        "\n",
        "model.add(Conv2D(32, (3, 3), activation='relu', input_shape=(64, 64, 3)))\n",
        "model.add(BatchNormalization())\n",
        "model.add(MaxPooling2D(pool_size=(2, 2)))\n",
        "model.add(Dropout(0.25))\n",
        "\n",
        "model.add(Conv2D(64, (3, 3), activation='relu'))\n",
        "model.add(BatchNormalization())\n",
        "model.add(MaxPooling2D(pool_size=(2, 2)))\n",
        "model.add(Dropout(0.25))\n",
        "\n",
        "model.add(Flatten())\n",
        "model.add(Dense(512, activation='relu'))\n",
        "model.add(BatchNormalization())\n",
        "model.add(Dropout(0.5))\n",
        "model.add(Dense(2, activation='softmax')) # 2 because we have cat and dog classes\n",
        "\n",
        "model.compile(loss='categorical_crossentropy', optimizer='rmsprop', metrics=['accuracy'])\n",
        "\n",
        "model.summary()"
      ],
      "execution_count": 65,
      "outputs": [
        {
          "output_type": "stream",
          "text": [
            "Model: \"sequential_2\"\n",
            "_________________________________________________________________\n",
            "Layer (type)                 Output Shape              Param #   \n",
            "=================================================================\n",
            "conv2d_3 (Conv2D)            (None, 62, 62, 32)        896       \n",
            "_________________________________________________________________\n",
            "batch_normalization_4 (Batch (None, 62, 62, 32)        128       \n",
            "_________________________________________________________________\n",
            "max_pooling2d_3 (MaxPooling2 (None, 31, 31, 32)        0         \n",
            "_________________________________________________________________\n",
            "dropout_4 (Dropout)          (None, 31, 31, 32)        0         \n",
            "_________________________________________________________________\n",
            "conv2d_4 (Conv2D)            (None, 29, 29, 64)        18496     \n",
            "_________________________________________________________________\n",
            "batch_normalization_5 (Batch (None, 29, 29, 64)        256       \n",
            "_________________________________________________________________\n",
            "max_pooling2d_4 (MaxPooling2 (None, 14, 14, 64)        0         \n",
            "_________________________________________________________________\n",
            "dropout_5 (Dropout)          (None, 14, 14, 64)        0         \n",
            "_________________________________________________________________\n",
            "flatten_2 (Flatten)          (None, 12544)             0         \n",
            "_________________________________________________________________\n",
            "dense_3 (Dense)              (None, 512)               6423040   \n",
            "_________________________________________________________________\n",
            "batch_normalization_6 (Batch (None, 512)               2048      \n",
            "_________________________________________________________________\n",
            "dropout_6 (Dropout)          (None, 512)               0         \n",
            "_________________________________________________________________\n",
            "dense_4 (Dense)              (None, 2)                 1026      \n",
            "=================================================================\n",
            "Total params: 6,445,890\n",
            "Trainable params: 6,444,674\n",
            "Non-trainable params: 1,216\n",
            "_________________________________________________________________\n"
          ],
          "name": "stdout"
        }
      ]
    },
    {
      "cell_type": "markdown",
      "metadata": {
        "id": "NTF_CHOX2Fp9",
        "colab_type": "text"
      },
      "source": [
        "#### and now we train it with a validation split of 20%"
      ]
    },
    {
      "cell_type": "code",
      "metadata": {
        "id": "s419VrBtXniD",
        "colab_type": "code",
        "colab": {
          "base_uri": "https://localhost:8080/",
          "height": 763
        },
        "outputId": "633a0452-4c0c-4f84-8d61-9bda408ac124"
      },
      "source": [
        "hist = model.fit(X_train,Y_train,batch_size=16,epochs=20,validation_split=0.2)"
      ],
      "execution_count": 66,
      "outputs": [
        {
          "output_type": "stream",
          "text": [
            "Train on 636 samples, validate on 160 samples\n",
            "Epoch 1/20\n",
            "636/636 [==============================] - 2s 3ms/step - loss: 1.3147 - acc: 0.6069 - val_loss: 2.4242 - val_acc: 0.5125\n",
            "Epoch 2/20\n",
            "636/636 [==============================] - 1s 1ms/step - loss: 0.8615 - acc: 0.6745 - val_loss: 1.4480 - val_acc: 0.5500\n",
            "Epoch 3/20\n",
            "636/636 [==============================] - 1s 1ms/step - loss: 0.7549 - acc: 0.6887 - val_loss: 1.5246 - val_acc: 0.5750\n",
            "Epoch 4/20\n",
            "636/636 [==============================] - 1s 1ms/step - loss: 0.4752 - acc: 0.8035 - val_loss: 1.5991 - val_acc: 0.6000\n",
            "Epoch 5/20\n",
            "636/636 [==============================] - 1s 1ms/step - loss: 0.5137 - acc: 0.7830 - val_loss: 1.3279 - val_acc: 0.6250\n",
            "Epoch 6/20\n",
            "636/636 [==============================] - 1s 1ms/step - loss: 0.3666 - acc: 0.8333 - val_loss: 1.5079 - val_acc: 0.5875\n",
            "Epoch 7/20\n",
            "636/636 [==============================] - 1s 1ms/step - loss: 0.2703 - acc: 0.8821 - val_loss: 1.0189 - val_acc: 0.6125\n",
            "Epoch 8/20\n",
            "636/636 [==============================] - 1s 1ms/step - loss: 0.2681 - acc: 0.8789 - val_loss: 1.3814 - val_acc: 0.6125\n",
            "Epoch 9/20\n",
            "636/636 [==============================] - 1s 1ms/step - loss: 0.2484 - acc: 0.9041 - val_loss: 1.1558 - val_acc: 0.5750\n",
            "Epoch 10/20\n",
            "636/636 [==============================] - 1s 1ms/step - loss: 0.2195 - acc: 0.9151 - val_loss: 1.3182 - val_acc: 0.5687\n",
            "Epoch 11/20\n",
            "636/636 [==============================] - 1s 1ms/step - loss: 0.1975 - acc: 0.9214 - val_loss: 1.5110 - val_acc: 0.5375\n",
            "Epoch 12/20\n",
            "636/636 [==============================] - 1s 1ms/step - loss: 0.2275 - acc: 0.9119 - val_loss: 1.2701 - val_acc: 0.5813\n",
            "Epoch 13/20\n",
            "636/636 [==============================] - 1s 1ms/step - loss: 0.1762 - acc: 0.9292 - val_loss: 1.0060 - val_acc: 0.6375\n",
            "Epoch 14/20\n",
            "636/636 [==============================] - 1s 1ms/step - loss: 0.1379 - acc: 0.9418 - val_loss: 1.2898 - val_acc: 0.6000\n",
            "Epoch 15/20\n",
            "636/636 [==============================] - 1s 1ms/step - loss: 0.1343 - acc: 0.9528 - val_loss: 2.0427 - val_acc: 0.5687\n",
            "Epoch 16/20\n",
            "636/636 [==============================] - 1s 1ms/step - loss: 0.0972 - acc: 0.9670 - val_loss: 1.7081 - val_acc: 0.5687\n",
            "Epoch 17/20\n",
            "636/636 [==============================] - 1s 1ms/step - loss: 0.1357 - acc: 0.9434 - val_loss: 2.3359 - val_acc: 0.5813\n",
            "Epoch 18/20\n",
            "636/636 [==============================] - 1s 1ms/step - loss: 0.0762 - acc: 0.9733 - val_loss: 1.4437 - val_acc: 0.6250\n",
            "Epoch 19/20\n",
            "636/636 [==============================] - 1s 1ms/step - loss: 0.0859 - acc: 0.9701 - val_loss: 2.5324 - val_acc: 0.5625\n",
            "Epoch 20/20\n",
            "636/636 [==============================] - 1s 1ms/step - loss: 0.0713 - acc: 0.9701 - val_loss: 1.2430 - val_acc: 0.6625\n"
          ],
          "name": "stdout"
        }
      ]
    },
    {
      "cell_type": "markdown",
      "metadata": {
        "id": "KoO-8SiD2TY2",
        "colab_type": "text"
      },
      "source": [
        "#### So our model accuracy is 97%, that's good. We will proceed to the testing now "
      ]
    },
    {
      "cell_type": "code",
      "metadata": {
        "id": "23LKb_Q_lt-s",
        "colab_type": "code",
        "colab": {}
      },
      "source": [
        "X_test =np.array(X_test) #Convert list to an array"
      ],
      "execution_count": 0,
      "outputs": []
    },
    {
      "cell_type": "code",
      "metadata": {
        "id": "IIwIg0yrfeGV",
        "colab_type": "code",
        "colab": {}
      },
      "source": [
        "preds=model.predict_classes(X_test) #Predict the classes"
      ],
      "execution_count": 0,
      "outputs": []
    },
    {
      "cell_type": "code",
      "metadata": {
        "id": "fKiY3xahl2qG",
        "colab_type": "code",
        "colab": {}
      },
      "source": [
        "Pred=list(label_encoder.inverse_transform(preds)) # Decode the result : [1:0] => cat"
      ],
      "execution_count": 0,
      "outputs": []
    },
    {
      "cell_type": "code",
      "metadata": {
        "id": "JBq7xBoUmWNb",
        "colab_type": "code",
        "colab": {}
      },
      "source": [
        "from sklearn.metrics import accuracy_score #Import accuracy for evaluation"
      ],
      "execution_count": 0,
      "outputs": []
    },
    {
      "cell_type": "code",
      "metadata": {
        "id": "ToKhNgNfl56y",
        "colab_type": "code",
        "colab": {
          "base_uri": "https://localhost:8080/",
          "height": 35
        },
        "outputId": "711fb765-acf1-4e02-e000-e45e0ecbb1fa"
      },
      "source": [
        "accuracy_score(Y_test, Pred)"
      ],
      "execution_count": 71,
      "outputs": [
        {
          "output_type": "execute_result",
          "data": {
            "text/plain": [
              "0.6"
            ]
          },
          "metadata": {
            "tags": []
          },
          "execution_count": 71
        }
      ]
    },
    {
      "cell_type": "code",
      "metadata": {
        "id": "KsFw-wP4Up0u",
        "colab_type": "code",
        "colab": {
          "base_uri": "https://localhost:8080/",
          "height": 295
        },
        "outputId": "1af36875-5288-4135-8f45-3732fa7a0401"
      },
      "source": [
        "plt.plot(hist.history['loss'])\n",
        "plt.plot(hist.history['val_loss'])\n",
        "plt.title('Model loss')\n",
        "plt.ylabel('Loss')\n",
        "plt.xlabel('Epoch')\n",
        "plt.legend(['Train', 'Val'], loc='upper right')\n",
        "plt.show()"
      ],
      "execution_count": 72,
      "outputs": [
        {
          "output_type": "display_data",
          "data": {
            "image/png": "[encoded data removed]",
            "text/plain": [
              "<Figure size 432x288 with 1 Axes>"
            ]
          },
          "metadata": {
            "tags": []
          }
        }
      ]
    },
    {
      "cell_type": "markdown",
      "metadata": {
        "id": "gj1_qRlj2152",
        "colab_type": "text"
      },
      "source": [
        "#### We only got 60% in the testing phase !\n",
        "#### What happened here ? And why are we facing this problems ? and What are the solutions to avoid such a behaviour ? "
      ]
    },
    {
      "cell_type": "code",
      "metadata": {
        "id": "izUqGrvy27MH",
        "colab_type": "code",
        "colab": {}
      },
      "source": [
        ""
      ],
      "execution_count": 0,
      "outputs": []
    }
  ]
}